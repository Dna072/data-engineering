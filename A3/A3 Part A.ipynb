{
 "cells": [
  {
   "cell_type": "markdown",
   "id": "02ba85ea",
   "metadata": {},
   "source": [
    "# Part A - Working with the RDD API"
   ]
  },
  {
   "cell_type": "code",
   "execution_count": 3,
   "id": "ed4f02f3",
   "metadata": {},
   "outputs": [],
   "source": [
    "from pyspark.sql import SparkSession"
   ]
  },
  {
   "cell_type": "code",
   "execution_count": 4,
   "id": "34beefef",
   "metadata": {},
   "outputs": [
    {
     "name": "stderr",
     "output_type": "stream",
     "text": [
      "WARNING: An illegal reflective access operation has occurred\n",
      "WARNING: Illegal reflective access by org.apache.spark.unsafe.Platform (file:/home/ubuntu/.local/lib/python3.10/site-packages/pyspark/jars/spark-unsafe_2.12-3.2.3.jar) to constructor java.nio.DirectByteBuffer(long,int)\n",
      "WARNING: Please consider reporting this to the maintainers of org.apache.spark.unsafe.Platform\n",
      "WARNING: Use --illegal-access=warn to enable warnings of further illegal reflective access operations\n",
      "WARNING: All illegal access operations will be denied in a future release"
     ]
    }
   ],
   "source": [
    "spark_session = SparkSession.builder\\\n",
    ".master(\"spark://192.168.2.70:7077\") \\\n",
    ".appName(\"derrick-adjei_app-test\")\\\n",
    ".config(\"spark.dynamicAllocation.enabled\", True)\\\n",
    ".config(\"spark.dynamicAllocation.shuffleTracking.enabled\",True)\\\n",
    ".config(\"spark.shuffle.service.enabled\", True)\\\n",
    ".config(\"spark.dynamicAllocation.executorIdleTimeout\",\"30s\")\\\n",
    ".config(\"spark.cores.max\", 4)\\\n",
    ".getOrCreate()"
   ]
  },
  {
   "cell_type": "code",
   "execution_count": 3,
   "id": "08a76fdf",
   "metadata": {},
   "outputs": [
    {
     "name": "stderr",
     "output_type": "stream",
     "text": [
      "[Stage 0:>                                                          (0 + 2) / 2]\r"
     ]
    },
    {
     "name": "stdout",
     "output_type": "stream",
     "text": [
      "166666616666670000000\n"
     ]
    },
    {
     "name": "stderr",
     "output_type": "stream",
     "text": [
      "\r",
      "[Stage 0:=============================>                             (1 + 1) / 2]\r",
      "\r",
      "                                                                                \r"
     ]
    }
   ],
   "source": [
    "def add(a, b):\n",
    "    # associative and commutative\n",
    "    return a + b\n",
    "\n",
    "rdd = spark_session.sparkContext.parallelize(range(10 ** 7))\n",
    "\n",
    "result = rdd.filter(lambda x: x % 2 == 0)\\\n",
    "            .map(lambda x: x ** 2)\\\n",
    "            .reduce(add)\n",
    "\n",
    "print(result)\n"
   ]
  },
  {
   "cell_type": "markdown",
   "id": "ad346442",
   "metadata": {},
   "source": [
    "## A.1.1  Read the English transcripts with Spark, and count the number of lines."
   ]
  },
  {
   "cell_type": "code",
   "execution_count": 5,
   "id": "29e954fe",
   "metadata": {},
   "outputs": [],
   "source": [
    "rdd_en = spark_session.sparkContext.textFile(\"hdfs://192.168.2.70:9000/europarl/europarl-v7.sv-en.en\", use_unicode=True,)"
   ]
  },
  {
   "cell_type": "markdown",
   "id": "1c856318",
   "metadata": {},
   "source": [
    "## A.1.2 Do the same with the other language (so that you have a separate lineage of RDDs for each)."
   ]
  },
  {
   "cell_type": "code",
   "execution_count": 6,
   "id": "dc83257e",
   "metadata": {},
   "outputs": [],
   "source": [
    "rdd_sv = spark_session.sparkContext.textFile(\"hdfs://192.168.2.70:9000/europarl/europarl-v7.sv-en.sv\", use_unicode=True)"
   ]
  },
  {
   "cell_type": "code",
   "execution_count": 4,
   "id": "f607e2fd",
   "metadata": {},
   "outputs": [
    {
     "name": "stderr",
     "output_type": "stream",
     "text": [
      "                                                                                \r"
     ]
    },
    {
     "data": {
      "text/plain": [
       "['Resumption of the session',\n",
       " 'I declare resumed the session of the European Parliament adjourned on Friday 17 December 1999, and I would like once again to wish you a happy new year in the hope that you enjoyed a pleasant festive period.',\n",
       " \"Although, as you will have seen, the dreaded 'millennium bug' failed to materialise, still the people in a number of countries suffered a series of natural disasters that truly were dreadful.\",\n",
       " 'You have requested a debate on this subject in the course of the next few days, during this part-session.',\n",
       " \"In the meantime, I should like to observe a minute' s silence, as a number of Members have requested, on behalf of all the victims concerned, particularly those of the terrible storms, in the various countries of the European Union.\",\n",
       " \"Please rise, then, for this minute' s silence.\",\n",
       " \"(The House rose and observed a minute' s silence)\",\n",
       " 'Madam President, on a point of order.',\n",
       " 'You will be aware from the press and television that there have been a number of bomb explosions and killings in Sri Lanka.',\n",
       " 'One of the people assassinated very recently in Sri Lanka was Mr Kumar Ponnambalam, who had visited the European Parliament just a few months ago.']"
      ]
     },
     "execution_count": 4,
     "metadata": {},
     "output_type": "execute_result"
    }
   ],
   "source": [
    "rdd_en.take(10)"
   ]
  },
  {
   "cell_type": "code",
   "execution_count": 6,
   "id": "2fecbbff",
   "metadata": {},
   "outputs": [
    {
     "name": "stderr",
     "output_type": "stream",
     "text": [
      "                                                                                \r"
     ]
    },
    {
     "data": {
      "text/plain": [
       "['Återupptagande av sessionen',\n",
       " 'Jag förklarar Europaparlamentets session återupptagen efter avbrottet den 17 december. Jag vill på nytt önska er ett gott nytt år och jag hoppas att ni haft en trevlig semester.',\n",
       " 'Som ni kunnat konstatera ägde \"den stora år 2000-buggen\" aldrig rum. Däremot har invånarna i ett antal av våra medlemsländer drabbats av naturkatastrofer som verkligen varit förskräckliga.',\n",
       " 'Ni har begärt en debatt i ämnet under sammanträdesperiodens kommande dagar.',\n",
       " 'Till dess vill jag att vi, som ett antal kolleger begärt, håller en tyst minut för offren för bl.a. stormarna i de länder i Europeiska unionen som drabbats.',\n",
       " 'Jag ber er resa er för en tyst minut.',\n",
       " '(Parlamentet höll en tyst minut.)',\n",
       " 'Fru talman! Det gäller en ordningsfråga.',\n",
       " 'Ni känner till från media att det skett en rad bombexplosioner och mord i Sri Lanka.',\n",
       " 'En av de personer som mycket nyligen mördades i Sri Lanka var Kumar Ponnambalam, som besökte Europaparlamentet för bara några månader sedan.']"
      ]
     },
     "execution_count": 6,
     "metadata": {},
     "output_type": "execute_result"
    }
   ],
   "source": [
    "rdd_sv.take(10)"
   ]
  },
  {
   "cell_type": "markdown",
   "id": "b773d7ef",
   "metadata": {},
   "source": [
    "## A. 1.3 Verify the line counts are same for the two languages"
   ]
  },
  {
   "cell_type": "code",
   "execution_count": 10,
   "id": "d624182f",
   "metadata": {},
   "outputs": [
    {
     "name": "stdout",
     "output_type": "stream",
     "text": [
      "English: 1862234, Swedish: 1862234\n"
     ]
    }
   ],
   "source": [
    "rdd_sv_count = rdd_sv.count()\n",
    "rdd_en_count = rdd_en.count()\n",
    "\n",
    "print(f'English: {rdd_en_count}, Swedish: {rdd_sv_count}')\n"
   ]
  },
  {
   "cell_type": "markdown",
   "id": "520eea72",
   "metadata": {},
   "source": [
    "## A.1.4 Count the number of partitions."
   ]
  },
  {
   "cell_type": "code",
   "execution_count": 11,
   "id": "1095589b",
   "metadata": {},
   "outputs": [
    {
     "data": {
      "text/plain": [
       "2"
      ]
     },
     "execution_count": 11,
     "metadata": {},
     "output_type": "execute_result"
    }
   ],
   "source": [
    "# Number of partitions for RDD EN\n",
    "rdd_en.getNumPartitions()"
   ]
  },
  {
   "cell_type": "code",
   "execution_count": 12,
   "id": "d0cc9e1b",
   "metadata": {},
   "outputs": [
    {
     "data": {
      "text/plain": [
       "3"
      ]
     },
     "execution_count": 12,
     "metadata": {},
     "output_type": "execute_result"
    }
   ],
   "source": [
    "# Number of partitions for RDD EN\n",
    "rdd_sv.getNumPartitions()"
   ]
  },
  {
   "cell_type": "markdown",
   "id": "b6dc53b0",
   "metadata": {},
   "source": [
    "## A.2.1 Pre-process text function"
   ]
  },
  {
   "cell_type": "code",
   "execution_count": 13,
   "id": "87f49437",
   "metadata": {},
   "outputs": [],
   "source": [
    "import string\n",
    "def remove_punctuation(input_string):\n",
    "    # Create a string of all punctuation marks\n",
    "    punctuation = string.punctuation\n",
    "    \n",
    "    for char in punctuation:\n",
    "        input_string = input_string.replace(char, ' ')\n",
    "    \n",
    "    return input_string.strip()\n",
    "\n",
    "def pre_process(lines):\n",
    "    words = lines.map(lambda line: remove_punctuation(line.lower()).split())\n",
    "    \n",
    "    return words"
   ]
  },
  {
   "cell_type": "code",
   "execution_count": 14,
   "id": "b672205d",
   "metadata": {},
   "outputs": [],
   "source": [
    "#A.2.1 Pre-process RDDs\n",
    "rdd_sv_preprocessed = pre_process(rdd_sv)\n",
    "rdd_en_preprocessed = pre_process(rdd_en)"
   ]
  },
  {
   "cell_type": "markdown",
   "id": "73a852ef",
   "metadata": {},
   "source": [
    "## A.2.2 Inspect 10 entries from each RDD to verify your pre-processing"
   ]
  },
  {
   "cell_type": "code",
   "execution_count": 17,
   "id": "eb9fc12a",
   "metadata": {},
   "outputs": [
    {
     "data": {
      "text/plain": [
       "[['återupptagande', 'av', 'sessionen'],\n",
       " ['jag',\n",
       "  'förklarar',\n",
       "  'europaparlamentets',\n",
       "  'session',\n",
       "  'återupptagen',\n",
       "  'efter',\n",
       "  'avbrottet',\n",
       "  'den',\n",
       "  '17',\n",
       "  'december',\n",
       "  'jag',\n",
       "  'vill',\n",
       "  'på',\n",
       "  'nytt',\n",
       "  'önska',\n",
       "  'er',\n",
       "  'ett',\n",
       "  'gott',\n",
       "  'nytt',\n",
       "  'år',\n",
       "  'och',\n",
       "  'jag',\n",
       "  'hoppas',\n",
       "  'att',\n",
       "  'ni',\n",
       "  'haft',\n",
       "  'en',\n",
       "  'trevlig',\n",
       "  'semester']]"
      ]
     },
     "execution_count": 17,
     "metadata": {},
     "output_type": "execute_result"
    }
   ],
   "source": [
    "rdd_sv_preprocessed.take(2)"
   ]
  },
  {
   "cell_type": "code",
   "execution_count": 18,
   "id": "42d36562",
   "metadata": {},
   "outputs": [
    {
     "data": {
      "text/plain": [
       "[['resumption', 'of', 'the', 'session'],\n",
       " ['i',\n",
       "  'declare',\n",
       "  'resumed',\n",
       "  'the',\n",
       "  'session',\n",
       "  'of',\n",
       "  'the',\n",
       "  'european',\n",
       "  'parliament',\n",
       "  'adjourned',\n",
       "  'on',\n",
       "  'friday',\n",
       "  '17',\n",
       "  'december',\n",
       "  '1999',\n",
       "  'and',\n",
       "  'i',\n",
       "  'would',\n",
       "  'like',\n",
       "  'once',\n",
       "  'again',\n",
       "  'to',\n",
       "  'wish',\n",
       "  'you',\n",
       "  'a',\n",
       "  'happy',\n",
       "  'new',\n",
       "  'year',\n",
       "  'in',\n",
       "  'the',\n",
       "  'hope',\n",
       "  'that',\n",
       "  'you',\n",
       "  'enjoyed',\n",
       "  'a',\n",
       "  'pleasant',\n",
       "  'festive',\n",
       "  'period']]"
      ]
     },
     "execution_count": 18,
     "metadata": {},
     "output_type": "execute_result"
    }
   ],
   "source": [
    "rdd_en_preprocessed.take(2)"
   ]
  },
  {
   "cell_type": "markdown",
   "id": "01bde42d",
   "metadata": {},
   "source": [
    "## A.2.3 Verify line counts"
   ]
  },
  {
   "cell_type": "code",
   "execution_count": 19,
   "id": "9ca2c8b0",
   "metadata": {},
   "outputs": [
    {
     "data": {
      "text/plain": [
       "1862234"
      ]
     },
     "execution_count": 19,
     "metadata": {},
     "output_type": "execute_result"
    }
   ],
   "source": [
    "rdd_en_preprocessed.count()"
   ]
  },
  {
   "cell_type": "code",
   "execution_count": 18,
   "id": "bf5e72a9",
   "metadata": {},
   "outputs": [
    {
     "name": "stderr",
     "output_type": "stream",
     "text": [
      "                                                                                \r"
     ]
    },
    {
     "data": {
      "text/plain": [
       "1862234"
      ]
     },
     "execution_count": 18,
     "metadata": {},
     "output_type": "execute_result"
    }
   ],
   "source": [
    "rdd_sv_preprocessed.count()"
   ]
  },
  {
   "cell_type": "markdown",
   "id": "5a2c8132",
   "metadata": {},
   "source": [
    "## A.3.1 Compute the 10 most frequently according words in the English language corpus"
   ]
  },
  {
   "cell_type": "code",
   "execution_count": 20,
   "id": "e58d97a8",
   "metadata": {},
   "outputs": [],
   "source": [
    "word_counts_en = rdd_en_preprocessed.flatMap(lambda line: line)\\\n",
    "                    .map(lambda word: (word, 1))\\\n",
    "                    .reduceByKey(lambda x,y: x+y)"
   ]
  },
  {
   "cell_type": "code",
   "execution_count": 21,
   "id": "0abcaf20",
   "metadata": {},
   "outputs": [
    {
     "data": {
      "text/plain": [
       "[('the', 3505660),\n",
       " ('of', 1662880),\n",
       " ('to', 1545223),\n",
       " ('and', 1320012),\n",
       " ('in', 1099304),\n",
       " ('that', 839167),\n",
       " ('a', 776796),\n",
       " ('is', 774956),\n",
       " ('for', 538470),\n",
       " ('we', 526440)]"
      ]
     },
     "execution_count": 21,
     "metadata": {},
     "output_type": "execute_result"
    }
   ],
   "source": [
    "word_counts_en.sortBy(lambda w: w[1], ascending=False).take(10)"
   ]
  },
  {
   "cell_type": "code",
   "execution_count": 22,
   "id": "a15d086b",
   "metadata": {},
   "outputs": [],
   "source": [
    "# Compute the 10 most frequently according words in the English language corpus\n",
    "word_counts_sv = rdd_sv_preprocessed.flatMap(lambda line: line)\\\n",
    "                    .map(lambda word: (word, 1))\\\n",
    "                    .reduceByKey(lambda x,y: x+y)"
   ]
  },
  {
   "cell_type": "code",
   "execution_count": 23,
   "id": "35c6653a",
   "metadata": {},
   "outputs": [
    {
     "data": {
      "text/plain": [
       "[('att', 1709733),\n",
       " ('och', 1350995),\n",
       " ('i', 1054584),\n",
       " ('det', 952598),\n",
       " ('som', 917546),\n",
       " ('för', 915040),\n",
       " ('av', 740741),\n",
       " ('är', 701795),\n",
       " ('en', 636518),\n",
       " ('vi', 545683)]"
      ]
     },
     "execution_count": 23,
     "metadata": {},
     "output_type": "execute_result"
    }
   ],
   "source": [
    "word_counts_sv.sortBy(lambda w: w[1], ascending=False).take(10)"
   ]
  },
  {
   "cell_type": "markdown",
   "id": "d9834eb1",
   "metadata": {},
   "source": [
    "## A.3.2 Verify that your results are reasonable."
   ]
  },
  {
   "cell_type": "code",
   "execution_count": 24,
   "id": "5782c884",
   "metadata": {},
   "outputs": [
    {
     "data": {
      "text/plain": [
       "[('count', 46029484)]"
      ]
     },
     "execution_count": 24,
     "metadata": {},
     "output_type": "execute_result"
    }
   ],
   "source": [
    "# To verify results are reasonable, we will count all the words in each corpus \n",
    "# and check if it matches our word_counts total\n",
    "total_words_en = rdd_en_preprocessed.flatMap(lambda line: line)\\\n",
    "                    .map(lambda word: ('count', 1))\\\n",
    "                    .reduceByKey(lambda x,y: x+y)"
   ]
  },
  {
   "cell_type": "code",
   "execution_count": 26,
   "id": "680f6832",
   "metadata": {},
   "outputs": [
    {
     "data": {
      "text/plain": [
       "[('count', 46029484)]"
      ]
     },
     "execution_count": 26,
     "metadata": {},
     "output_type": "execute_result"
    }
   ],
   "source": [
    "total_words_en.take(1)"
   ]
  },
  {
   "cell_type": "markdown",
   "id": "931bd65a",
   "metadata": {},
   "source": [
    "Total words from English Corpus is **46,029,484**"
   ]
  },
  {
   "cell_type": "code",
   "execution_count": 29,
   "id": "fe2ea461",
   "metadata": {},
   "outputs": [],
   "source": [
    "# Total words from our word_counts_en\n",
    "word_counts_en_total_rdd = word_counts_en.map(lambda x: ('count', x[1]))\\\n",
    "        .reduceByKey(lambda x,y: x+y)"
   ]
  },
  {
   "cell_type": "code",
   "execution_count": 30,
   "id": "4a1420f2",
   "metadata": {},
   "outputs": [
    {
     "data": {
      "text/plain": [
       "[('count', 46029484)]"
      ]
     },
     "execution_count": 30,
     "metadata": {},
     "output_type": "execute_result"
    }
   ],
   "source": [
    "word_counts_en_total_rdd.take(1)"
   ]
  },
  {
   "cell_type": "markdown",
   "id": "8185aa95",
   "metadata": {},
   "source": [
    "Total words from our word count RDD is **46029484**"
   ]
  },
  {
   "cell_type": "markdown",
   "id": "98c63fbd",
   "metadata": {},
   "source": [
    "## A.4.1 Mine some translations in the form of word pairs, for the two languages"
   ]
  },
  {
   "cell_type": "code",
   "execution_count": 64,
   "id": "0d45ff3c",
   "metadata": {},
   "outputs": [],
   "source": [
    "sv_1, sv_2 = pre_process(rdd_sv), pre_process(rdd_sv)\n",
    "en_1, en_2 = pre_process(rdd_en), pre_process(rdd_en)"
   ]
  },
  {
   "cell_type": "markdown",
   "id": "18eab2a9",
   "metadata": {},
   "source": [
    "### 1. Key lines by their line number "
   ]
  },
  {
   "cell_type": "code",
   "execution_count": 65,
   "id": "a9fbbf44",
   "metadata": {},
   "outputs": [],
   "source": [
    "sv_1 = sv_1.zipWithIndex()\n",
    "en_1 = en_1.zipWithIndex()"
   ]
  },
  {
   "cell_type": "markdown",
   "id": "2716b1d4",
   "metadata": {},
   "source": [
    "### 2. Swap key and values, so line number is key"
   ]
  },
  {
   "cell_type": "code",
   "execution_count": 67,
   "id": "69f59ae8",
   "metadata": {},
   "outputs": [],
   "source": [
    "sv_1 = sv_1.map(lambda x: (x[1],x[0]))\n",
    "en_1 = en_1.map(lambda x: (x[1], x[0]))"
   ]
  },
  {
   "cell_type": "code",
   "execution_count": 68,
   "id": "733be915",
   "metadata": {},
   "outputs": [
    {
     "data": {
      "text/plain": [
       "[(0, ['resumption', 'of', 'the', 'session'])]"
      ]
     },
     "execution_count": 68,
     "metadata": {},
     "output_type": "execute_result"
    }
   ],
   "source": [
    "## 2. verify swap worked\n",
    "en_1.take(1)"
   ]
  },
  {
   "cell_type": "markdown",
   "id": "cae0264a",
   "metadata": {},
   "source": [
    "### 3 & 4 & 5 Join the two RDDs together according to the line number key, so you have pairs of matching lines\n",
    "### Filter to exclude line pairs that have an empty/missing “corresponding” sentence.\n",
    "### Filter to leave only pairs of sentences with a small number of words per sentence, this should give a more reliable translation"
   ]
  },
  {
   "cell_type": "code",
   "execution_count": 69,
   "id": "bc8e5c08",
   "metadata": {},
   "outputs": [],
   "source": [
    "translation = sv_1.filter(lambda x: len(x[1]) >= 1 and len(x[1]) <= 6 )\\\n",
    "        .join(en_1.filter(lambda x: len(x[1]) >= 1 and len(x[1]) <= 6 ))"
   ]
  },
  {
   "cell_type": "markdown",
   "id": "62cf6c97",
   "metadata": {},
   "source": [
    "### 6. Filter to leave only pairs of sentences with a small number of words per sentence, this should give a more reliable translation"
   ]
  },
  {
   "cell_type": "code",
   "execution_count": 70,
   "id": "7ce595d4",
   "metadata": {},
   "outputs": [],
   "source": [
    "translation = translation.filter(lambda x: len(x[1][0]) == len(x[1][1]))"
   ]
  },
  {
   "cell_type": "code",
   "execution_count": 76,
   "id": "f6809b98",
   "metadata": {},
   "outputs": [
    {
     "data": {
      "text/plain": [
       "[(50, (['arbetsplan'], ['agenda'])),\n",
       " (185,\n",
       "  (['transport', 'av', 'farligt', 'gods', 'på', 'väg'],\n",
       "   ['transport', 'of', 'dangerous', 'goods', 'by', 'road'])),\n",
       " (255,\n",
       "  (['jag', 'förklarar', 'debatten', 'avslutad'],\n",
       "   ['the', 'debate', 'is', 'closed']))]"
      ]
     },
     "execution_count": 76,
     "metadata": {},
     "output_type": "execute_result"
    }
   ],
   "source": [
    "## verify translation_pair filter\n",
    "translation.take(3)"
   ]
  },
  {
   "cell_type": "markdown",
   "id": "4b67c100",
   "metadata": {},
   "source": [
    "### 7. For each pair, map to pair each word (in order) with the two sentences."
   ]
  },
  {
   "cell_type": "code",
   "execution_count": 72,
   "id": "58bf0309",
   "metadata": {},
   "outputs": [],
   "source": [
    "trans_pairs = translation.map(lambda l: list(zip(l[1][0], l[1][1])))"
   ]
  },
  {
   "cell_type": "code",
   "execution_count": 73,
   "id": "2c5c5530",
   "metadata": {},
   "outputs": [
    {
     "data": {
      "text/plain": [
       "[[('arbetsplan', 'agenda')],\n",
       " [('transport', 'transport'),\n",
       "  ('av', 'of'),\n",
       "  ('farligt', 'dangerous'),\n",
       "  ('gods', 'goods'),\n",
       "  ('på', 'by'),\n",
       "  ('väg', 'road')],\n",
       " [('jag', 'the'),\n",
       "  ('förklarar', 'debate'),\n",
       "  ('debatten', 'is'),\n",
       "  ('avslutad', 'closed')]]"
      ]
     },
     "execution_count": 73,
     "metadata": {},
     "output_type": "execute_result"
    }
   ],
   "source": [
    "# verify word pairs\n",
    "trans_pairs.take(3)"
   ]
  },
  {
   "cell_type": "markdown",
   "id": "b31680c5",
   "metadata": {},
   "source": [
    "### 8. Count the number of occurrences of the word translation pairs"
   ]
  },
  {
   "cell_type": "code",
   "execution_count": 74,
   "id": "be418c89",
   "metadata": {},
   "outputs": [],
   "source": [
    "trans_pairs_count = trans_pairs.flatMap(lambda pair: pair)\\\n",
    "            .map(lambda pair: (pair, 1))\\\n",
    "            .reduceByKey(lambda x,y: x + y)"
   ]
  },
  {
   "cell_type": "markdown",
   "id": "af39c454",
   "metadata": {},
   "source": [
    "### 9. Print some of the most frequently occurring pairs of words"
   ]
  },
  {
   "cell_type": "code",
   "execution_count": 75,
   "id": "9b050930",
   "metadata": {},
   "outputs": [
    {
     "data": {
      "text/plain": [
       "[(('är', 'is'), 6201),\n",
       " (('applåder', 'applause'), 3346),\n",
       " (('avslutad', 'closed'), 2994),\n",
       " (('vi', 'we'), 2361),\n",
       " (('det', 'that'), 2127),\n",
       " (('detta', 'this'), 1866),\n",
       " (('jag', 'i'), 1858),\n",
       " (('det', 'it'), 1601),\n",
       " (('inte', 'not'), 1371),\n",
       " (('jag', 'the'), 1340),\n",
       " (('debatten', 'is'), 1326),\n",
       " (('förklarar', 'debate'), 1318),\n",
       " (('debatten', 'the'), 1266),\n",
       " (('härmed', 'is'), 1248),\n",
       " (('är', 'debate'), 1219),\n",
       " (('en', 'a'), 1199),\n",
       " (('det', 'this'), 1024),\n",
       " (('är', 'are'), 967),\n",
       " (('det', 'there'), 941),\n",
       " (('artikel', 'rule'), 899)]"
      ]
     },
     "execution_count": 75,
     "metadata": {},
     "output_type": "execute_result"
    }
   ],
   "source": [
    "trans_pairs_count.sortBy(lambda p: p[1], ascending=False).take(20)"
   ]
  },
  {
   "cell_type": "markdown",
   "id": "647d4ad1",
   "metadata": {},
   "source": [
    "Translations seem reasonable except for a few mistakes."
   ]
  }
 ],
 "metadata": {
  "kernelspec": {
   "display_name": "Python 3 (ipykernel)",
   "language": "python",
   "name": "python3"
  },
  "language_info": {
   "codemirror_mode": {
    "name": "ipython",
    "version": 3
   },
   "file_extension": ".py",
   "mimetype": "text/x-python",
   "name": "python",
   "nbconvert_exporter": "python",
   "pygments_lexer": "ipython3",
   "version": "3.10.6"
  }
 },
 "nbformat": 4,
 "nbformat_minor": 5
}
