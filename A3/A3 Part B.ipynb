{
 "cells": [
  {
   "cell_type": "markdown",
   "id": "5a63ff7b",
   "metadata": {},
   "source": [
    "# Part B - Working with DataFrames and SQL"
   ]
  },
  {
   "cell_type": "code",
   "execution_count": 1,
   "id": "3233ed15",
   "metadata": {},
   "outputs": [],
   "source": [
    "from pyspark.sql import SparkSession"
   ]
  },
  {
   "cell_type": "code",
   "execution_count": 2,
   "id": "7b13853d",
   "metadata": {},
   "outputs": [
    {
     "name": "stderr",
     "output_type": "stream",
     "text": [
      "WARNING: An illegal reflective access operation has occurred\n",
      "WARNING: Illegal reflective access by org.apache.spark.unsafe.Platform (file:/home/ubuntu/.local/lib/python3.10/site-packages/pyspark/jars/spark-unsafe_2.12-3.2.3.jar) to constructor java.nio.DirectByteBuffer(long,int)\n",
      "WARNING: Please consider reporting this to the maintainers of org.apache.spark.unsafe.Platform\n",
      "WARNING: Use --illegal-access=warn to enable warnings of further illegal reflective access operations\n",
      "WARNING: All illegal access operations will be denied in a future release"
     ]
    }
   ],
   "source": [
    "spark_session = SparkSession.builder\\\n",
    ".master(\"spark://192.168.2.70:7077\") \\\n",
    ".appName(\"derrick-adjei_app-partb\")\\\n",
    ".config(\"spark.dynamicAllocation.enabled\", True)\\\n",
    ".config(\"spark.dynamicAllocation.shuffleTracking.enabled\",True)\\\n",
    ".config(\"spark.shuffle.service.enabled\", True)\\\n",
    ".config(\"spark.dynamicAllocation.executorIdleTimeout\",\"30s\")\\\n",
    ".config(\"spark.cores.max\", 4)\\\n",
    ".getOrCreate()"
   ]
  },
  {
   "cell_type": "markdown",
   "id": "d5a1e940",
   "metadata": {},
   "source": [
    "## B.1  Load the CSV file from HDFS, and call show() to verify the data is loaded correctly"
   ]
  },
  {
   "cell_type": "code",
   "execution_count": 10,
   "id": "93c6ed2e",
   "metadata": {},
   "outputs": [],
   "source": [
    "df = spark_session.read\\\n",
    "        .option(\"header\", True)\\\n",
    "        .csv(\"hdfs://192.168.2.70:9000/parking-citations.csv\")"
   ]
  },
  {
   "cell_type": "markdown",
   "id": "4adca525",
   "metadata": {},
   "source": [
    "## B.2 Print the schema for the DataFrame"
   ]
  },
  {
   "cell_type": "code",
   "execution_count": 11,
   "id": "0a2529ed",
   "metadata": {},
   "outputs": [
    {
     "name": "stdout",
     "output_type": "stream",
     "text": [
      "root\n",
      " |-- Ticket number: string (nullable = true)\n",
      " |-- Issue Date: string (nullable = true)\n",
      " |-- Issue time: string (nullable = true)\n",
      " |-- Meter Id: string (nullable = true)\n",
      " |-- Marked Time: string (nullable = true)\n",
      " |-- RP State Plate: string (nullable = true)\n",
      " |-- Plate Expiry Date: string (nullable = true)\n",
      " |-- VIN: string (nullable = true)\n",
      " |-- Make: string (nullable = true)\n",
      " |-- Body Style: string (nullable = true)\n",
      " |-- Color: string (nullable = true)\n",
      " |-- Location: string (nullable = true)\n",
      " |-- Route: string (nullable = true)\n",
      " |-- Agency: string (nullable = true)\n",
      " |-- Violation code: string (nullable = true)\n",
      " |-- Violation Description: string (nullable = true)\n",
      " |-- Fine amount: string (nullable = true)\n",
      " |-- Latitude: string (nullable = true)\n",
      " |-- Longitude: string (nullable = true)\n",
      " |-- Agency Description: string (nullable = true)\n",
      " |-- Color Description: string (nullable = true)\n",
      " |-- Body Style Description: string (nullable = true)\n",
      "\n"
     ]
    }
   ],
   "source": [
    "df.printSchema()"
   ]
  },
  {
   "cell_type": "markdown",
   "id": "951bc0a2",
   "metadata": {},
   "source": [
    "## B.3 Count the number of rows in the CSV file"
   ]
  },
  {
   "cell_type": "code",
   "execution_count": 12,
   "id": "14fa0f16",
   "metadata": {},
   "outputs": [],
   "source": [
    "row_count = df.count()"
   ]
  },
  {
   "cell_type": "code",
   "execution_count": 13,
   "id": "41082a15",
   "metadata": {},
   "outputs": [
    {
     "name": "stdout",
     "output_type": "stream",
     "text": [
      "Row count: 13077724\n"
     ]
    }
   ],
   "source": [
    "print(f'Row count: {row_count}')"
   ]
  },
  {
   "cell_type": "markdown",
   "id": "c5ee48d7",
   "metadata": {},
   "source": [
    "## B.4 Count the number of partitions in the underlying RDD."
   ]
  },
  {
   "cell_type": "code",
   "execution_count": 15,
   "id": "cf984970",
   "metadata": {},
   "outputs": [
    {
     "data": {
      "text/plain": [
       "16"
      ]
     },
     "execution_count": 15,
     "metadata": {},
     "output_type": "execute_result"
    }
   ],
   "source": [
    "df.rdd.getNumPartitions()"
   ]
  },
  {
   "cell_type": "markdown",
   "id": "55fd93b4",
   "metadata": {},
   "source": [
    "## B.5 Drop the columns VIN, Latitude and Longitude"
   ]
  },
  {
   "cell_type": "code",
   "execution_count": 17,
   "id": "ee1690e9",
   "metadata": {},
   "outputs": [],
   "source": [
    "df_new = df.drop('VIN', 'Latitude', 'Longitude')"
   ]
  },
  {
   "cell_type": "code",
   "execution_count": 18,
   "id": "f34625ae",
   "metadata": {},
   "outputs": [
    {
     "name": "stdout",
     "output_type": "stream",
     "text": [
      "root\n",
      " |-- Ticket number: string (nullable = true)\n",
      " |-- Issue Date: string (nullable = true)\n",
      " |-- Issue time: string (nullable = true)\n",
      " |-- Meter Id: string (nullable = true)\n",
      " |-- Marked Time: string (nullable = true)\n",
      " |-- RP State Plate: string (nullable = true)\n",
      " |-- Plate Expiry Date: string (nullable = true)\n",
      " |-- Make: string (nullable = true)\n",
      " |-- Body Style: string (nullable = true)\n",
      " |-- Color: string (nullable = true)\n",
      " |-- Location: string (nullable = true)\n",
      " |-- Route: string (nullable = true)\n",
      " |-- Agency: string (nullable = true)\n",
      " |-- Violation code: string (nullable = true)\n",
      " |-- Violation Description: string (nullable = true)\n",
      " |-- Fine amount: string (nullable = true)\n",
      " |-- Agency Description: string (nullable = true)\n",
      " |-- Color Description: string (nullable = true)\n",
      " |-- Body Style Description: string (nullable = true)\n",
      "\n"
     ]
    }
   ],
   "source": [
    "# verify columns have been dropped\n",
    "df_new.printSchema()"
   ]
  },
  {
   "cell_type": "markdown",
   "id": "18e4d50f",
   "metadata": {},
   "source": [
    "## B.6 Find the maximum fine amount. How many fines have this amount?"
   ]
  },
  {
   "cell_type": "code",
   "execution_count": 23,
   "id": "9b8476c3",
   "metadata": {},
   "outputs": [],
   "source": [
    "df_new = df_new.withColumn(\"Fine amount\", df['Fine amount'].cast('float'))"
   ]
  },
  {
   "cell_type": "code",
   "execution_count": 24,
   "id": "5bd3e0a6",
   "metadata": {},
   "outputs": [
    {
     "name": "stdout",
     "output_type": "stream",
     "text": [
      "root\n",
      " |-- Ticket number: string (nullable = true)\n",
      " |-- Issue Date: string (nullable = true)\n",
      " |-- Issue time: string (nullable = true)\n",
      " |-- Meter Id: string (nullable = true)\n",
      " |-- Marked Time: string (nullable = true)\n",
      " |-- RP State Plate: string (nullable = true)\n",
      " |-- Plate Expiry Date: string (nullable = true)\n",
      " |-- Make: string (nullable = true)\n",
      " |-- Body Style: string (nullable = true)\n",
      " |-- Color: string (nullable = true)\n",
      " |-- Location: string (nullable = true)\n",
      " |-- Route: string (nullable = true)\n",
      " |-- Agency: string (nullable = true)\n",
      " |-- Violation code: string (nullable = true)\n",
      " |-- Violation Description: string (nullable = true)\n",
      " |-- Fine amount: float (nullable = true)\n",
      " |-- Agency Description: string (nullable = true)\n",
      " |-- Color Description: string (nullable = true)\n",
      " |-- Body Style Description: string (nullable = true)\n",
      "\n"
     ]
    }
   ],
   "source": [
    "df_new.printSchema()"
   ]
  },
  {
   "cell_type": "code",
   "execution_count": 25,
   "id": "93a455d1",
   "metadata": {},
   "outputs": [],
   "source": [
    "# Using max() function\n",
    "from pyspark.sql.functions import max"
   ]
  },
  {
   "cell_type": "code",
   "execution_count": 39,
   "id": "41972fff",
   "metadata": {},
   "outputs": [
    {
     "name": "stdout",
     "output_type": "stream",
     "text": [
      "+--------+\n",
      "|max_fine|\n",
      "+--------+\n",
      "|  1100.0|\n",
      "+--------+\n",
      "\n"
     ]
    }
   ],
   "source": [
    "max_fine = df_new.select(max(df_new['Fine amount']).alias('max_fine'))\n",
    "max_fine.show()"
   ]
  },
  {
   "cell_type": "code",
   "execution_count": 43,
   "id": "5e7e793d",
   "metadata": {},
   "outputs": [],
   "source": [
    "max_fine_val = max_fine.first()['max_fine']"
   ]
  },
  {
   "cell_type": "code",
   "execution_count": 45,
   "id": "ac0693d4",
   "metadata": {},
   "outputs": [],
   "source": [
    "rows_with_max_fine = df_new.where(df_new['Fine amount'] == max_fine_val).count()"
   ]
  },
  {
   "cell_type": "code",
   "execution_count": 46,
   "id": "2b30a49f",
   "metadata": {},
   "outputs": [
    {
     "name": "stdout",
     "output_type": "stream",
     "text": [
      "There are 626 rows with this fine value\n"
     ]
    }
   ],
   "source": [
    "print(f'There are {rows_with_max_fine} rows with this fine value')"
   ]
  },
  {
   "cell_type": "markdown",
   "id": "bf2d427c",
   "metadata": {},
   "source": [
    "## B.7 Show the top 20 most frequent vehicle makes and their frequencies "
   ]
  },
  {
   "cell_type": "code",
   "execution_count": 51,
   "id": "3c854aab",
   "metadata": {},
   "outputs": [],
   "source": [
    "makes_rdd = df_new.select('Make').rdd\\\n",
    "            .map(lambda x: (x['Make'], 1))\\\n",
    "            .reduceByKey(lambda x,y: x+y)"
   ]
  },
  {
   "cell_type": "code",
   "execution_count": 53,
   "id": "d1b34ffc",
   "metadata": {},
   "outputs": [
    {
     "data": {
      "text/plain": [
       "[('TOYT', 2150768),\n",
       " ('HOND', 1479996),\n",
       " ('FORD', 1116235),\n",
       " ('NISS', 945133),\n",
       " ('CHEV', 892676),\n",
       " ('BMW', 603092),\n",
       " ('MERZ', 543298),\n",
       " ('VOLK', 432030),\n",
       " ('HYUN', 404917),\n",
       " ('DODG', 391686),\n",
       " ('LEXS', 368420),\n",
       " ('KIA', 328155),\n",
       " ('JEEP', 316300),\n",
       " ('AUDI', 255395),\n",
       " ('MAZD', 242344),\n",
       " ('OTHR', 205546),\n",
       " ('GMC', 184889),\n",
       " ('INFI', 174315),\n",
       " ('CHRY', 159948),\n",
       " ('SUBA', 154640)]"
      ]
     },
     "execution_count": 53,
     "metadata": {},
     "output_type": "execute_result"
    }
   ],
   "source": [
    "makes_rdd.sortBy(lambda x: x[1], ascending=False).take(20)"
   ]
  },
  {
   "cell_type": "markdown",
   "id": "da68be8d",
   "metadata": {},
   "source": [
    "### B.8 Create a User Defined Function to create a new column, ‘color long’, mapping the original colors to their corresponding values in the dictionary below. If there is no key matching the original color, use the original color"
   ]
  },
  {
   "cell_type": "code",
   "execution_count": 55,
   "id": "faa4c557",
   "metadata": {},
   "outputs": [],
   "source": [
    "COLORS = {\n",
    "'AL':'Aluminum', 'AM':'Amber', 'BG':'Beige', 'BK':'Black', 'BL':'Blue',\n",
    "'BN':'Brown', 'BR':'Brown', 'BZ':'Bronze', 'CH':'Charcoal', 'DK':'Dark',\n",
    "'GD':'Gold', 'GO':'Gold', 'GN':'Green', 'GY':'Gray', 'GT':'Granite',\n",
    "'IV':'Ivory', 'LT':'Light', 'OL':'Olive', 'OR':'Orange', 'MR':'Maroon',\n",
    "'PK':'Pink', 'RD':'Red', 'RE':'Red', 'SI':'Silver', 'SL':'Silver',\n",
    "'SM':'Smoke', 'TN':'Tan', 'VT':'Violet', 'WT':'White', 'WH':'White',\n",
    "'YL':'Yellow', 'YE':'Yellow', 'UN':'Unknown'\n",
    "}"
   ]
  },
  {
   "cell_type": "code",
   "execution_count": 68,
   "id": "0203f9e1",
   "metadata": {},
   "outputs": [],
   "source": [
    "# import the functions as F from pyspark.sql\n",
    "import pyspark.sql.functions as F\n",
    "from pyspark.sql.types import StringType\n",
    "\n",
    "def colorLong(color):\n",
    "    if color == None:\n",
    "        return COLORS['UN']\n",
    "    \n",
    "    if color in COLORS:\n",
    "        return COLORS[color]\n",
    "    \n",
    "    return color\n",
    "\n",
    "color_udf = F.udf(colorLong, StringType())\n",
    "\n",
    "df_with_color_long = df_new.withColumn('Color long', color_udf(df_new['Color']))"
   ]
  },
  {
   "cell_type": "markdown",
   "id": "1709b339",
   "metadata": {},
   "source": [
    "### B.9 Using this new column, what’s the most frequent colour value for Toyotas (TOYT)?"
   ]
  },
  {
   "cell_type": "code",
   "execution_count": 71,
   "id": "14498c9a",
   "metadata": {},
   "outputs": [],
   "source": [
    "toyt_colors_rdd = df_with_color_long.filter(\"Make == 'TOYT'\").select('Color long')\\\n",
    "        .rdd.map(lambda x: (x['Color long'], 1))\\\n",
    "        .reduceByKey(lambda x,y: x+y)"
   ]
  },
  {
   "cell_type": "code",
   "execution_count": 72,
   "id": "7547e364",
   "metadata": {},
   "outputs": [
    {
     "data": {
      "text/plain": [
       "[('Gray', 489697),\n",
       " ('White', 434595),\n",
       " ('Black', 353812),\n",
       " ('Silver', 347894),\n",
       " ('Blue', 180091),\n",
       " ('Red', 119074),\n",
       " ('Green', 74968),\n",
       " ('Gold', 40646),\n",
       " ('Maroon', 26242),\n",
       " ('Tan', 23355),\n",
       " ('Beige', 15723),\n",
       " ('OT', 15719),\n",
       " ('Brown', 11454),\n",
       " ('Yellow', 4372),\n",
       " ('PR', 4272),\n",
       " ('Orange', 3575),\n",
       " ('Unknown', 2783),\n",
       " ('TU', 1647),\n",
       " ('CO', 730),\n",
       " ('Pink', 117)]"
      ]
     },
     "execution_count": 72,
     "metadata": {},
     "output_type": "execute_result"
    }
   ],
   "source": [
    "toyt_colors_rdd.sortBy(lambda x: x[1], ascending=False).take(20)"
   ]
  },
  {
   "cell_type": "markdown",
   "id": "aa8b3826",
   "metadata": {},
   "source": [
    "The most frequently occuring color for TOYT is **Gray**"
   ]
  }
 ],
 "metadata": {
  "kernelspec": {
   "display_name": "Python 3 (ipykernel)",
   "language": "python",
   "name": "python3"
  },
  "language_info": {
   "codemirror_mode": {
    "name": "ipython",
    "version": 3
   },
   "file_extension": ".py",
   "mimetype": "text/x-python",
   "name": "python",
   "nbconvert_exporter": "python",
   "pygments_lexer": "ipython3",
   "version": "3.10.6"
  }
 },
 "nbformat": 4,
 "nbformat_minor": 5
}
